{
 "cells": [
  {
   "cell_type": "markdown",
   "id": "2ef70b97",
   "metadata": {},
   "source": [
    "### 1. Write a Python program to print &quot;Hello Python&quot;?\n",
    "### 2. Write a Python program to do arithmetical operations addition and division.?\n",
    "### 3. Write a Python program to find the area of a triangle?\n",
    "### 4. Write a Python program to swap two variables?\n",
    "### 5. Write a Python program to generate a random number?"
   ]
  },
  {
   "cell_type": "code",
   "execution_count": 33,
   "id": "f2363594",
   "metadata": {},
   "outputs": [
    {
     "name": "stdout",
     "output_type": "stream",
     "text": [
      "hello python\n"
     ]
    }
   ],
   "source": [
    "# Q1)\n",
    "print('hello python')"
   ]
  },
  {
   "cell_type": "code",
   "execution_count": 31,
   "id": "ca110869",
   "metadata": {},
   "outputs": [
    {
     "name": "stdout",
     "output_type": "stream",
     "text": [
      "30\n",
      "10\n"
     ]
    }
   ],
   "source": [
    "#Q2) \n",
    "a=10\n",
    "b=20\n",
    "c=a+b\n",
    "print(c)\n",
    "d=b-a\n",
    "print(d)"
   ]
  },
  {
   "cell_type": "code",
   "execution_count": 30,
   "id": "750f7845",
   "metadata": {},
   "outputs": [
    {
     "data": {
      "text/plain": [
       "75.0"
      ]
     },
     "execution_count": 30,
     "metadata": {},
     "output_type": "execute_result"
    }
   ],
   "source": [
    "# Q3)\n",
    "height=10\n",
    "base=15\n",
    "area_of_triangle=(1/2)*base*height\n",
    "area_of_triangle"
   ]
  },
  {
   "cell_type": "markdown",
   "id": "35b394bc",
   "metadata": {},
   "source": [
    "###  Q4) swapping 2 variables"
   ]
  },
  {
   "cell_type": "code",
   "execution_count": 29,
   "id": "24984bab",
   "metadata": {},
   "outputs": [
    {
     "name": "stdout",
     "output_type": "stream",
     "text": [
      "value after swapping x 5\n",
      "value after swapping a 5\n"
     ]
    }
   ],
   "source": [
    "a=5\n",
    "b=10\n",
    "x=a\n",
    "b=a\n",
    "b=x\n",
    "print(\"value after swapping x {}\".format(a))\n",
    "print('value after swapping a {}'.format(b))"
   ]
  },
  {
   "cell_type": "markdown",
   "id": "6640bdff",
   "metadata": {},
   "source": [
    "   ### Q5) getting random  number"
   ]
  },
  {
   "cell_type": "code",
   "execution_count": 26,
   "id": "17faa83d",
   "metadata": {},
   "outputs": [
    {
     "name": "stdout",
     "output_type": "stream",
     "text": [
      "[4, 3, 5, 5]\n"
     ]
    }
   ],
   "source": [
    "import random\n",
    "bhush=[]\n",
    "for i in range(0,4):\n",
    "    n=random.randint(1,5)\n",
    "    bhush.append(n)\n",
    "print(bhush)"
   ]
  }
 ],
 "metadata": {
  "kernelspec": {
   "display_name": "Python 3 (ipykernel)",
   "language": "python",
   "name": "python3"
  },
  "language_info": {
   "codemirror_mode": {
    "name": "ipython",
    "version": 3
   },
   "file_extension": ".py",
   "mimetype": "text/x-python",
   "name": "python",
   "nbconvert_exporter": "python",
   "pygments_lexer": "ipython3",
   "version": "3.9.7"
  }
 },
 "nbformat": 4,
 "nbformat_minor": 5
}
