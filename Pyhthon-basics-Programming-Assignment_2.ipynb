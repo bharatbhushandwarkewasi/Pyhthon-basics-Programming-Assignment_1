{
 "cells": [
  {
   "cell_type": "markdown",
   "id": "68dd91c4",
   "metadata": {},
   "source": [
    "## 1. Write a Python program to convert kilometers to miles?\n",
    "## 2. Write a Python program to convert Celsius to Fahrenheit?\n",
    "## 3. Write a Python program to display calendar?\n",
    "## 4. Write a Python program to solve quadratic equation?\n",
    "## 5. Write a Python program to swap two variables without temp variable?"
   ]
  },
  {
   "cell_type": "code",
   "execution_count": 2,
   "id": "6fac06e1",
   "metadata": {},
   "outputs": [
    {
     "name": "stdout",
     "output_type": "stream",
     "text": [
      "enter the value1\n",
      "1.00 kilometers is coverted into the 0.62\n"
     ]
    }
   ],
   "source": [
    "#Q1)\n",
    "# 1km=0.62199\n",
    "kilo=float(input('enter the value :'))\n",
    "change_into=0.62199\n",
    "miles=kilo*change_into\n",
    "print('%0.2f kilometers is coverted into the %0.2f' %(kilo,change_into))"
   ]
  },
  {
   "cell_type": "code",
   "execution_count": 6,
   "id": "b3e771f6",
   "metadata": {},
   "outputs": [
    {
     "name": "stdout",
     "output_type": "stream",
     "text": [
      "how many values of degree you have to converted into Fahrenheit:-1\n",
      "1.00 is converted into the  33.80\n"
     ]
    }
   ],
   "source": [
    "# Q2)\n",
    "# 1c=33.8 frnht\n",
    "cel=float(input('how many values of degree you have to converted into Fahrenheit:-'))\n",
    "fahr=33.8\n",
    "temp=cel*fahr\n",
    "print('%0.2f is converted into the % 0.2f'%(cel,temp))"
   ]
  },
  {
   "cell_type": "code",
   "execution_count": 8,
   "id": "9988b704",
   "metadata": {},
   "outputs": [
    {
     "name": "stdout",
     "output_type": "stream",
     "text": [
      "Enter year: 2021\n",
      "Enter month: 1\n",
      "    January 2021\n",
      "Mo Tu We Th Fr Sa Su\n",
      "             1  2  3\n",
      " 4  5  6  7  8  9 10\n",
      "11 12 13 14 15 16 17\n",
      "18 19 20 21 22 23 24\n",
      "25 26 27 28 29 30 31\n",
      "\n"
     ]
    }
   ],
   "source": [
    "# Q3)\n",
    "import calendar\n",
    "# Enter the month and year.\n",
    "yy = int(input(\"Enter year: \"))\n",
    "mm = int(input(\"Enter month: \"))\n",
    "# display the calendar.\n",
    "print(calendar. month(yy,mm))\n"
   ]
  },
  {
   "cell_type": "code",
   "execution_count": 11,
   "id": "2829ddfe",
   "metadata": {},
   "outputs": [
    {
     "name": "stdout",
     "output_type": "stream",
     "text": [
      "enter the year2022\n",
      "enter the month1\n",
      "    January 2022\n",
      "Mo Tu We Th Fr Sa Su\n",
      "                1  2\n",
      " 3  4  5  6  7  8  9\n",
      "10 11 12 13 14 15 16\n",
      "17 18 19 20 21 22 23\n",
      "24 25 26 27 28 29 30\n",
      "31\n",
      "\n"
     ]
    }
   ],
   "source": [
    "import calendar\n",
    "yy=int(input('enter the year'))\n",
    "mm=int(input('enter the month'))\n",
    "print(calendar.month(yy,mm))"
   ]
  },
  {
   "cell_type": "code",
   "execution_count": 13,
   "id": "6a619e4b",
   "metadata": {},
   "outputs": [
    {
     "name": "stdout",
     "output_type": "stream",
     "text": [
      "enter the year:2022\n",
      "enter the month2\n",
      "   February 2022\n",
      "Mo Tu We Th Fr Sa Su\n",
      "    1  2  3  4  5  6\n",
      " 7  8  9 10 11 12 13\n",
      "14 15 16 17 18 19 20\n",
      "21 22 23 24 25 26 27\n",
      "28\n",
      "\n"
     ]
    }
   ],
   "source": [
    "Q3) \n",
    "import calendar\n",
    "yy=int(input('enter the year:'))\n",
    "mm=int(input('enter the month'))\n",
    "print(calendar.month(yy,mm))"
   ]
  },
  {
   "cell_type": "code",
   "execution_count": 16,
   "id": "1a1d2594",
   "metadata": {},
   "outputs": [
    {
     "name": "stdout",
     "output_type": "stream",
     "text": [
      "enter the x value :-10\n",
      "552\n"
     ]
    }
   ],
   "source": [
    "#Q4) \n",
    "# euquation=a*x**2+b*x+c\n",
    "a=5\n",
    "b=5\n",
    "c=2\n",
    "x=int(input(\"enter the x value :-\"))\n",
    "quad_equa=a*x**2+b*x+c\n",
    "print(quad_equa)\n"
   ]
  },
  {
   "cell_type": "code",
   "execution_count": 24,
   "id": "bf60eba8",
   "metadata": {},
   "outputs": [
    {
     "name": "stdout",
     "output_type": "stream",
     "text": [
      "value of a after of swapping with b: 20\n",
      "value after b after swapping  with a: 10\n"
     ]
    }
   ],
   "source": [
    "#Q5)\n",
    "a=10\n",
    "b=20\n",
    "# lets see the logic of swaping without temp variable\n",
    "a=a+b\n",
    "b=a-b\n",
    "a=a-b\n",
    "print('value of a after of swapping with b:',(a))\n",
    "print('value after b after swapping  with a:',(b))\n"
   ]
  },
  {
   "cell_type": "code",
   "execution_count": 23,
   "id": "c542029a",
   "metadata": {},
   "outputs": [
    {
     "name": "stdout",
     "output_type": "stream",
     "text": [
      "take the values a which have the swapped with another value of b:-100\n",
      "take the values b which have the swapped with another value of a:-200\n",
      "value after swapping: 200\n",
      "value after swapping: 100\n"
     ]
    }
   ],
   "source": [
    "# if we taking input from the user then\n",
    "a=int(input(\"take the values a which have the swapped with another value of b:-\"))\n",
    "b=int(input(\"take the values b which have the swapped with another value of a:-\"))\n",
    "# lets see the logic of swaping without temp variable\n",
    "a=a+b\n",
    "b=a-b\n",
    "a=a-b\n",
    "print('value after swapping:',(a))\n",
    "print('value after swapping:',(b))\n"
   ]
  },
  {
   "cell_type": "code",
   "execution_count": null,
   "id": "13adf5fb",
   "metadata": {},
   "outputs": [],
   "source": []
  }
 ],
 "metadata": {
  "kernelspec": {
   "display_name": "Python 3 (ipykernel)",
   "language": "python",
   "name": "python3"
  },
  "language_info": {
   "codemirror_mode": {
    "name": "ipython",
    "version": 3
   },
   "file_extension": ".py",
   "mimetype": "text/x-python",
   "name": "python",
   "nbconvert_exporter": "python",
   "pygments_lexer": "ipython3",
   "version": "3.9.7"
  }
 },
 "nbformat": 4,
 "nbformat_minor": 5
}
